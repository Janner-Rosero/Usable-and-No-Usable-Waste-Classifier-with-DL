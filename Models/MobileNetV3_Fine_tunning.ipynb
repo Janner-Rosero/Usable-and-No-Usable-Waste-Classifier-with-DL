{
  "cells": [
    {
      "cell_type": "markdown",
      "metadata": {
        "id": "view-in-github",
        "colab_type": "text"
      },
      "source": [
        "<a href=\"https://colab.research.google.com/github/jett220201/Usable-and-No-Usable-Waste-Classifier-with-DL/blob/main/Models/MobileNetV3_Fine_tunning.ipynb\" target=\"_parent\"><img src=\"https://colab.research.google.com/assets/colab-badge.svg\" alt=\"Open In Colab\"/></a>"
      ]
    },
    {
      "cell_type": "code",
      "execution_count": null,
      "id": "b9124a9c",
      "metadata": {
        "id": "b9124a9c"
      },
      "outputs": [],
      "source": [
        "%matplotlib notebook\n",
        "#Only activate if you're using Jupyter Notebook"
      ]
    },
    {
      "cell_type": "code",
      "execution_count": null,
      "id": "0e043703",
      "metadata": {
        "id": "0e043703"
      },
      "outputs": [],
      "source": [
        "import os\n",
        "import cv2\n",
        "import glob\n",
        "import random\n",
        "import sklearn\n",
        "import numpy as np\n",
        "import seaborn as sns\n",
        "import tensorflow as tf\n",
        "from sklearn.metrics import auc\n",
        "import matplotlib.pyplot as plt\n",
        "from sklearn.metrics import roc_curve\n",
        "from keras.models import Model, Sequential\n",
        "from matplotlib.collections import EventCollection\n",
        "from sklearn.model_selection import train_test_split\n",
        "from keras.layers import Dense, Flatten, Conv2D, MaxPooling2D"
      ]
    },
    {
      "cell_type": "code",
      "execution_count": null,
      "id": "cf4824bf",
      "metadata": {
        "id": "cf4824bf"
      },
      "outputs": [],
      "source": [
        "# Read input images and assign labels based on folder names\n",
        "print(os.listdir(\"data/\"))"
      ]
    },
    {
      "cell_type": "markdown",
      "id": "de7169ba",
      "metadata": {
        "id": "de7169ba"
      },
      "source": [
        "Control parameters"
      ]
    },
    {
      "cell_type": "code",
      "execution_count": null,
      "id": "3339da11",
      "metadata": {
        "id": "3339da11"
      },
      "outputs": [],
      "source": [
        "Seed_0 = random.randint(1,2**32 - 1)\n",
        "N_epochs = 50\n",
        "Batch_size = 64\n",
        "LR = 0.001\n",
        "SIZE = 224  #Size in pixels \n",
        "Shuffle = True"
      ]
    },
    {
      "cell_type": "code",
      "execution_count": null,
      "id": "119b0020",
      "metadata": {
        "scrolled": true,
        "id": "119b0020"
      },
      "outputs": [],
      "source": [
        "#Capture training data and labels into respective lists\n",
        "images = []\n",
        "labels = [] \n",
        "\n",
        "for directory_path in glob.glob(\"data/*\"):\n",
        "    label = directory_path.split(\"\\\\\")[-1]\n",
        "    print(label)\n",
        "    for img_path in glob.glob(os.path.join(directory_path, \"*.jpg\")):\n",
        "        img = cv2.imread(img_path, cv2.IMREAD_COLOR)       \n",
        "        img = cv2.resize(img, (SIZE, SIZE))\n",
        "        images.append(img)\n",
        "        labels.append(label)\n",
        "\n",
        "#Convert lists to arrays        \n",
        "images = np.array(images)\n",
        "labels = np.array(labels)"
      ]
    },
    {
      "cell_type": "code",
      "execution_count": null,
      "id": "2827375b",
      "metadata": {
        "id": "2827375b"
      },
      "outputs": [],
      "source": [
        "#Spliting Dataset\n",
        "X_train, X_test, y_train, y_test = train_test_split(images, labels, test_size=0.2, random_state = Seed_0)"
      ]
    },
    {
      "cell_type": "code",
      "execution_count": null,
      "id": "29919adc",
      "metadata": {
        "id": "29919adc"
      },
      "outputs": [],
      "source": [
        "#Encode labels from text to integers.\n",
        "from sklearn import preprocessing\n",
        "le = preprocessing.LabelEncoder()\n",
        "le.fit(y_test)\n",
        "test_labels_encoded = le.transform(y_test)\n",
        "le.fit(y_train)\n",
        "train_labels_encoded = le.transform(y_train)\n",
        "\n",
        "#print(test_labels_encoded)\n",
        "print(train_labels_encoded)\n",
        "len(train_labels_encoded)\n",
        "\n",
        "#0 = Aprovechable\n",
        "#1 = No_Aprovechable"
      ]
    },
    {
      "cell_type": "markdown",
      "id": "c6342c82",
      "metadata": {
        "id": "c6342c82"
      },
      "source": [
        "# Preprocessing is needed\n",
        "\n",
        "Note: each Keras Application expects a specific kind of input preprocessing. For MobileNetV3, by default input preprocessing is included as a part of the model (as a Rescaling layer), and thus `tf.keras.applications.mobilenet_v3.preprocess_input` is actually a pass-through function. In this use case, MobileNetV3 models expect their inputs to be float tensors of pixels with values in the [0-255] range. At the same time, preprocessing as a part of the model (i.e. Rescaling layer) can be disabled by setting include_preprocessing argument to False. With preprocessing disabled MobileNetV3 models expect their inputs to be float tensors of pixels with values in the [-1, 1] range.\n",
        "\n",
        "Source: https://keras.io/api/applications/mobilenet/"
      ]
    },
    {
      "cell_type": "code",
      "execution_count": null,
      "id": "f0817b07",
      "metadata": {
        "id": "f0817b07"
      },
      "outputs": [],
      "source": [
        "#Inputs\n",
        "X_train = tf.keras.applications.mobilenet_v3.preprocess_input(X_train)\n",
        "Y_train = train_labels_encoded\n",
        "X_test = tf.keras.applications.mobilenet_v3.preprocess_input(X_test)\n",
        "Y_test = test_labels_encoded"
      ]
    },
    {
      "cell_type": "code",
      "execution_count": null,
      "id": "6f355129",
      "metadata": {
        "id": "6f355129"
      },
      "outputs": [],
      "source": [
        "#Create model MobileNetV3 for Fine Tunning\n",
        "base_model = tf.keras.applications.MobileNetV3Large(\n",
        "    input_shape=(224,224,3),\n",
        "    alpha=1.0,\n",
        "    include_top = True,\n",
        "    weights=\"imagenet\",\n",
        "    pooling=None,\n",
        "    dropout_rate=0.2,\n",
        "    classifier_activation=\"softmax\",\n",
        "    include_preprocessing = True,\n",
        ")\n",
        "\n",
        "x = base_model.layers[-4].output\n",
        "x = tf.keras.layers.Conv2D(2,(1,1), name = 'Logits')( x )\n",
        "x = tf.keras.layers.BatchNormalization()( x )\n",
        "x = tf.keras.layers.Flatten()( x )\n",
        "outputs = tf.keras.layers.Dense(1, activation='sigmoid')( x )\n",
        "model = tf.keras.models.Model( base_model.input , outputs )\n",
        "\n",
        "for layer in model.layers[ : -10]:\n",
        "    layer.trainable = False\n",
        "\n",
        "model.summary()"
      ]
    },
    {
      "cell_type": "code",
      "execution_count": null,
      "id": "ac949cce",
      "metadata": {
        "id": "ac949cce"
      },
      "outputs": [],
      "source": [
        "# Generating path to save weights per epoch \n",
        "checkpoint_path = \"training_1/cp-{epoch:02d}.ckpt\"\n",
        "checkpoint_dir = os.path.dirname(checkpoint_path)\n",
        "\n",
        "# Create a callback that saves the model's weights\n",
        "cp_callback = tf.keras.callbacks.ModelCheckpoint(\n",
        "    filepath = checkpoint_path, \n",
        "    verbose = 1, \n",
        "    save_weights_only = True,\n",
        "    save_freq = 'epoch')\n",
        "\n",
        "# Model training\n",
        "\n",
        "model.compile(optimizer = tf.keras.optimizers.Adam( learning_rate = LR  ),\n",
        "              loss='binary_crossentropy',\n",
        "              metrics=['accuracy',\n",
        "                       'AUC',\n",
        "                       tf.keras.metrics.TruePositives(),\n",
        "                       tf.keras.metrics.TrueNegatives(),\n",
        "                       tf.keras.metrics.FalsePositives(),\n",
        "                       tf.keras.metrics.FalseNegatives()])\n",
        "\n",
        "history = model.fit(x = X_train,\n",
        "                    y = Y_train,\n",
        "                    batch_size = Batch_size,\n",
        "                    epochs = N_epochs,\n",
        "                    verbose = 1,\n",
        "                    shuffle = Shuffle,\n",
        "                    validation_data = (X_test, Y_test),\n",
        "                    callbacks=[cp_callback])\n"
      ]
    },
    {
      "cell_type": "code",
      "execution_count": null,
      "id": "d8852438",
      "metadata": {
        "id": "d8852438"
      },
      "outputs": [],
      "source": [
        "# Get values of TN, FP, FN, TP for the confusion matrix\n",
        "\n",
        "FN = history.history['val_false_negatives_2'] # For each compile the number plus by \n",
        "TN = history.history['val_true_negatives_2']  # 1 -> false_negatives_1,2,3....\n",
        "FP = history.history['val_false_positives_2']\n",
        "TP = history.history['val_true_positives_2']"
      ]
    },
    {
      "cell_type": "code",
      "execution_count": null,
      "id": "4c4b22ce",
      "metadata": {
        "id": "4c4b22ce"
      },
      "outputs": [],
      "source": [
        "#Calculate F1 Score - Validation\n",
        "F1 = []\n",
        "for i in range(N_epochs):\n",
        "    try:\n",
        "        temp = ( ( 2*TP[i] ) / ( 2*TP[i] + FP[i] + FN[i] ) )\n",
        "    except:\n",
        "        temp = \"Error\"\n",
        "    F1.append(temp)\n",
        "print('-Result for F1 Score-')\n",
        "print(F1,'\\n')\n",
        "\n",
        "\n",
        "#Calculate MCC - Validation\n",
        "MCC = []\n",
        "for i in range(N_epochs):\n",
        "    try:\n",
        "        temp = ( (TP[i]*TN[i]) - (FP[i]*FN[i]) ) / ( np.sqrt( (TP[i]+FP[i])*(TP[i]+FN[i])*(TN[i]+FP[i])*(TN[i]+FN[i]) ) )\n",
        "    except:\n",
        "        temp = \"Error\"\n",
        "    MCC.append(temp)\n",
        "print('-Result for MCC-')\n",
        "print(MCC, '\\n')\n",
        "\n",
        "#Calculate Recall - Validation\n",
        "Recall = []\n",
        "for i in range(N_epochs):\n",
        "    try:\n",
        "        temp = ( TP[i] / ( TP[i] + FN[i] ) )\n",
        "    except:\n",
        "        temp = \"Error\"\n",
        "    Recall.append(temp)\n",
        "print('-Result for Recall-')\n",
        "print(Recall, '\\n')\n",
        "\n",
        "#Calculate Specificity - Validation\n",
        "Specificity = []\n",
        "for i in range(N_epochs):\n",
        "    try:\n",
        "        temp = ( TN[i] / ( TN[i] + FP[i] )  )\n",
        "    except:\n",
        "        temp = \"Error\"\n",
        "    Specificity.append(temp)\n",
        "print('-Result for Specificity-')\n",
        "print(Specificity, '\\n')"
      ]
    },
    {
      "cell_type": "code",
      "execution_count": null,
      "id": "284311a0",
      "metadata": {
        "id": "284311a0"
      },
      "outputs": [],
      "source": [
        "#Show Validation metrics\n",
        "xdata = np.linspace(1, N_epochs + 1, num = N_epochs, endpoint=False)\n",
        "fig1 = plt.figure('Metrics')\n",
        "plt.plot(history.history['val_accuracy'].index(max(history.history['val_accuracy'])) + 1, max(history.history['val_accuracy']), marker = 'o', markerfacecolor = 'red', markersize = 12)\n",
        "plt.plot(xdata, Recall, color = 'c', linewidth = 2,linestyle='dashed')\n",
        "plt.plot(xdata, Specificity, color = 'm',linewidth = 2,linestyle='dashed')\n",
        "plt.plot(xdata, MCC, color = 'b',linewidth = 2.5)\n",
        "plt.plot(xdata, F1, color = 'r',linewidth = 2.5)\n",
        "plt.plot(xdata, history.history['val_auc'], color = 'tab:orange',linewidth = 2.5)\n",
        "plt.plot(xdata, history.history['val_accuracy'], color = 'tab:olive',linewidth = 2.5)\n",
        "plt.legend(['Best score','Recall','Specificity','MCC','F1','AUC','Accuracy'])\n",
        "plt.title('Validation metrics')\n",
        "plt.xlabel('Epochs')\n",
        "plt.ylim(0, 1)"
      ]
    },
    {
      "cell_type": "code",
      "execution_count": null,
      "id": "dbc409a4",
      "metadata": {
        "id": "dbc409a4"
      },
      "outputs": [],
      "source": [
        "#Show accuracy metrics\n",
        "fig2 = plt.figure('Accuracy')\n",
        "plt.plot(history.history['val_accuracy'].index(max(history.history['val_accuracy'])) + 1, max(history.history['val_accuracy']), marker = 'o', markerfacecolor = 'red', markersize = 12)\n",
        "plt.plot(xdata, history.history['accuracy'], color = 'tab:green',linewidth = 2.5)\n",
        "plt.plot(xdata, history.history['val_accuracy'], color = 'tab:olive',linewidth = 2.5)\n",
        "plt.legend(['Best Score','Accuracy','val_accuracy'])\n",
        "plt.title('Accuracy vs val_accuracy')\n",
        "plt.xlabel('Epochs')\n",
        "plt.ylim(0, 1)\n",
        "\n",
        "plt.show()"
      ]
    },
    {
      "cell_type": "code",
      "execution_count": null,
      "id": "7886d998",
      "metadata": {
        "id": "7886d998"
      },
      "outputs": [],
      "source": [
        "#Calculating AUC - ROC curve\n",
        "Y_tf = model.predict(X_test).ravel()\n",
        "fpr_keras, tpr_keras, thresholds_keras = roc_curve(Y_test, Y_tf)\n",
        "auc_keras = auc(fpr_keras, tpr_keras)"
      ]
    },
    {
      "cell_type": "code",
      "execution_count": null,
      "id": "fd472918",
      "metadata": {
        "id": "fd472918"
      },
      "outputs": [],
      "source": [
        "#Show ROC-AUC Curve\n",
        "plt.figure(\"ROC-AUC Curve\")\n",
        "plt.plot([0, 1], [0, 1], 'k--')\n",
        "plt.plot(fpr_keras, tpr_keras, label='MobileNetV3 (area = {:.3f})'.format(auc_keras), color = 'tab:orange')\n",
        "plt.xlabel('False positive rate')\n",
        "plt.ylabel('True positive rate')\n",
        "plt.title('ROC curve')\n",
        "plt.legend(loc='best')\n",
        "plt.show()\n",
        "# Zoom in view of the upper left corner.\n",
        "plt.figure('Zoomed')\n",
        "plt.xlim(0, 0.4)\n",
        "plt.ylim(0.6, 1)\n",
        "plt.plot([0, 1], [0, 1], 'k--')\n",
        "plt.plot(fpr_keras, tpr_keras, label='MobileNetV3 (area = {:.3f})'.format(auc_keras),color = 'tab:orange')\n",
        "plt.xlabel('False positive rate')\n",
        "plt.ylabel('True positive rate')\n",
        "plt.title('ROC curve (zoomed in at top left)')\n",
        "plt.legend(loc='best')"
      ]
    },
    {
      "cell_type": "markdown",
      "id": "657ea850",
      "metadata": {
        "id": "657ea850"
      },
      "source": [
        "AUC - ROC curve - Based on: https://medium.com/hackernoon/simple-guide-on-how-to-generate-roc-plot-for-keras-classifier-2ecc6c73115a"
      ]
    },
    {
      "cell_type": "code",
      "execution_count": null,
      "id": "ecc5cd25",
      "metadata": {
        "id": "ecc5cd25"
      },
      "outputs": [],
      "source": [
        "print('=======================================')\n",
        "print(\"|            Best Scores               |\")\n",
        "print('=======================================\\n')\n",
        "print('        Epoch :        {}'.format(1 + history.history['val_accuracy'].index(max(history.history['val_accuracy']))))\n",
        "print('        Val_Accuracy : {:.4f}'.format(history.history['val_accuracy'][history.history['val_accuracy'].index(max(history.history['val_accuracy']))]))\n",
        "print('        Recall :       {:.4f}'.format(Recall[history.history['val_accuracy'].index(max(history.history['val_accuracy']))]))\n",
        "print('        Specificity :  {:.4f}'.format(Specificity[history.history['val_accuracy'].index(max(history.history['val_accuracy']))]))\n",
        "print('        AUC :          {:.4f}'.format(history.history['val_auc'][history.history['val_accuracy'].index(max(history.history['val_accuracy']))]))\n",
        "print('        F1 Score :     {:.4f}'.format(F1[history.history['val_accuracy'].index(max(history.history['val_accuracy']))]))\n",
        "print('        MCC :          {:.4f}'.format(MCC[history.history['val_accuracy'].index(max(history.history['val_accuracy']))]))\n",
        "print('        Seed:         ',Seed_0)\n",
        "\n",
        "#print the best result of the whole training process\n",
        "\n",
        "plt.plot(xdata, Recall, color = 'c', linewidth = 2,linestyle='dashed')\n",
        "plt.plot(xdata, Specificity, color = 'm',linewidth = 2,linestyle='dashed')\n",
        "plt.plot(xdata, MCC, color = 'b',linewidth = 2.5)\n",
        "plt.plot(xdata, F1, color = 'r',linewidth = 2.5)\n",
        "plt.plot(xdata, history.history['val_auc'], color = 'tab:orange',linewidth = 2.5)\n",
        "plt.plot(xdata, history.history['val_accuracy'], color = 'tab:olive',linewidth = 2.5)\n",
        "\n",
        "##Show Validation metrics\n",
        "\n",
        "plt.figure(\"Confusion Matrix Visualization\")\n",
        "CM = np.array( [ [TN[history.history['val_accuracy'].index(max(history.history['val_accuracy']))],FP[history.history['val_accuracy'].index(max(history.history['val_accuracy']))]],[FN[history.history['val_accuracy'].index(max(history.history['val_accuracy']))],TP[history.history['val_accuracy'].index(max(history.history['val_accuracy']))]] ] )\n",
        "sns.heatmap(CM, annot=True)\n",
        "\n",
        "#Plot CM"
      ]
    },
    {
      "cell_type": "markdown",
      "source": [
        "#Recover Model"
      ],
      "metadata": {
        "id": "oDhRRkhAFFDC"
      },
      "id": "oDhRRkhAFFDC"
    },
    {
      "cell_type": "code",
      "execution_count": null,
      "id": "17acde9f",
      "metadata": {
        "id": "17acde9f"
      },
      "outputs": [],
      "source": [
        "#Save model \n",
        "model.save('Model_1/MobileNetV3.h5')"
      ]
    },
    {
      "cell_type": "code",
      "execution_count": null,
      "id": "fdd1557e",
      "metadata": {
        "id": "fdd1557e"
      },
      "outputs": [],
      "source": [
        "#Load the saved model again\n",
        "new_model = tf.keras.models.load_model( 'Model_1/MobileNetV3.h5', compile=True, options=None )\n",
        "\n",
        "#Show the model architecture\n",
        "new_model.summary()"
      ]
    },
    {
      "cell_type": "code",
      "execution_count": null,
      "id": "a23c9ec9",
      "metadata": {
        "id": "a23c9ec9"
      },
      "outputs": [],
      "source": [
        "#Setting Best weights saved\n",
        "\n",
        "if (history.history['val_accuracy'].index(max(history.history['val_accuracy'])) + 1) > 9:\n",
        "    Base = 'training_1/cp-{}.ckpt'\n",
        "else:\n",
        "    Base = 'training_1/cp-0{}.ckpt'\n",
        "\n",
        "BestWeights = Base.format(history.history['val_accuracy'].index(max(history.history['val_accuracy'])) + 1 )\n",
        "\n",
        "#Loading Best weights saved on new_model\n",
        "model.load_weights(BestWeights)"
      ]
    },
    {
      "cell_type": "code",
      "execution_count": null,
      "id": "338e204d",
      "metadata": {
        "id": "338e204d"
      },
      "outputs": [],
      "source": [
        "#Verify metrics\n",
        "# Evaluate the restored model\n",
        "loss, acc, aucscore, tp, tn, fp, fn = model.evaluate(X_test, Y_test, verbose=2)\n",
        "print('Restored model, accuracy: {:5.2f}%'.format(100 * acc))"
      ]
    },
    {
      "cell_type": "code",
      "execution_count": null,
      "id": "e9e9fc5b",
      "metadata": {
        "id": "e9e9fc5b",
        "outputId": "32552048-dada-47ff-ae0e-b585c528473f"
      },
      "outputs": [
        {
          "name": "stdout",
          "output_type": "stream",
          "text": [
            "13/13 [==============================] - 6s 463ms/step\n"
          ]
        }
      ],
      "source": [
        "#Calculating AUC - ROC curve / Restored model\n",
        "Y_tf = model.predict(X_test).ravel()\n",
        "fpr_keras, tpr_keras, thresholds_keras = roc_curve(Y_test, Y_tf)\n",
        "auc_keras = auc(fpr_keras, tpr_keras)"
      ]
    },
    {
      "cell_type": "code",
      "execution_count": null,
      "id": "2517ddd3",
      "metadata": {
        "id": "2517ddd3"
      },
      "outputs": [],
      "source": [
        "#show ROC-AUC Curve - Recovered model\n",
        "plt.figure(\"ROC-AUC Curve - Recovered model\")\n",
        "plt.plot([0, 1], [0, 1], 'k--')\n",
        "plt.plot(fpr_keras, tpr_keras, label='ResNet 50 V2 Restored model (area = {:.3f})'.format(auc_keras), color = 'tab:orange')\n",
        "plt.xlabel('False positive rate')\n",
        "plt.ylabel('True positive rate')\n",
        "plt.title('ROC curve')\n",
        "plt.legend(loc='best')\n",
        "plt.show()\n",
        "\n",
        "# Zoom in view of the upper left corner.\n",
        "plt.figure('Zoomed - Recovered model')\n",
        "plt.xlim(0, 0.4)\n",
        "plt.ylim(0.6, 1)\n",
        "plt.plot([0, 1], [0, 1], 'k--')\n",
        "plt.plot(fpr_keras, tpr_keras, label='ResNet 50 V2 Restored model(area = {:.3f})'.format(auc_keras),color = 'tab:orange')\n",
        "plt.xlabel('False positive rate')\n",
        "plt.ylabel('True positive rate')\n",
        "plt.title('ROC curve (zoomed in at top left)')\n",
        "plt.legend(loc='best')"
      ]
    },
    {
      "cell_type": "code",
      "execution_count": null,
      "id": "f9e05775",
      "metadata": {
        "id": "f9e05775"
      },
      "outputs": [],
      "source": [
        "#Show predicted vs real labels\n",
        "\n",
        "index = 0\n",
        "for i in Y_tf:\n",
        "    if i >= 0.5:\n",
        "        Y_tf[index] = int(1)\n",
        "    else:\n",
        "        Y_tf[index] = int(0)\n",
        "    index += 1\n",
        "print(\"                           *** Real Labels ***\\n\")\n",
        "print(Y_test,'\\n')\n",
        "print(\"                         *** Predicted Labels ***\\n\")\n",
        "print( Y_tf)"
      ]
    },
    {
      "cell_type": "code",
      "execution_count": null,
      "id": "49a64970",
      "metadata": {
        "id": "49a64970"
      },
      "outputs": [],
      "source": [
        "#Validate real ACC of restored model\n",
        "\n",
        "index = 0\n",
        "tp_val = 0\n",
        "for c in Y_test:\n",
        "    if Y_test[index] == Y_tf[index]:\n",
        "        tp_val += 1\n",
        "    index += 1\n",
        "print('  Manual ACC_Val:   {:.2f}%'.format(100*tp_val/len(Y_test)))"
      ]
    }
  ],
  "metadata": {
    "kernelspec": {
      "display_name": "GPU",
      "language": "python",
      "name": "gpu"
    },
    "language_info": {
      "codemirror_mode": {
        "name": "ipython",
        "version": 3
      },
      "file_extension": ".py",
      "mimetype": "text/x-python",
      "name": "python",
      "nbconvert_exporter": "python",
      "pygments_lexer": "ipython3",
      "version": "3.9.13"
    },
    "colab": {
      "provenance": [],
      "include_colab_link": true
    }
  },
  "nbformat": 4,
  "nbformat_minor": 5
}