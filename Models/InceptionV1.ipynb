{
  "cells": [
    {
      "cell_type": "code",
      "execution_count": 3,
      "metadata": {},
      "outputs": [],
      "source": [
        "#Import libraries\n",
        "import os\n",
        "import glob\n",
        "import cv2\n",
        "import random\n",
        "import tensorflow as tf\n",
        "import numpy as np \n",
        "import seaborn as sns\n",
        "import matplotlib.pyplot as plt\n",
        "import pandas as pd\n",
        "from tensorflow import keras as kr\n",
        "import tensorflow_hub as hub\n",
        "import seaborn as sns\n",
        "from sklearn.metrics import accuracy_score, f1_score, recall_score, matthews_corrcoef, confusion_matrix, auc, roc_curve\n",
        "from sklearn import svm\n",
        "from sklearn.model_selection import train_test_split  \n",
        "from sklearn.metrics import make_scorer"
      ]
    },
    {
      "cell_type": "code",
      "execution_count": null,
      "metadata": {},
      "outputs": [],
      "source": [
        "#Read input images and assign labels based on folder names\n",
        "print(os.listdir(\"data/\")) #The dataset is located in a folder called data\n",
        "SIZE = 250  #Resize images"
      ]
    },
    {
      "cell_type": "code",
      "execution_count": null,
      "metadata": {},
      "outputs": [],
      "source": [
        "#Capture training data and labels into respective lists\n",
        "images = []\n",
        "labels = [] \n",
        "\n",
        "for directory_path in glob.glob(\"data/*\"):\n",
        "    label = directory_path.split(\"\\\\\")[-1]\n",
        "    print(label)\n",
        "    for img_path in glob.glob(os.path.join(directory_path, \"*.jpg\")):\n",
        "        img = cv2.imread(img_path, cv2.IMREAD_COLOR)       \n",
        "        img = cv2.resize(img, (SIZE, SIZE))\n",
        "        images.append(img)\n",
        "        labels.append(label)\n",
        "\n",
        "#Convert lists to arrays        \n",
        "images = np.array(images)\n",
        "labels = np.array(labels)"
      ]
    },
    {
      "cell_type": "code",
      "execution_count": null,
      "metadata": {},
      "outputs": [],
      "source": [
        "Seed_0 = random.randint(1,2**32 - 1) #Seed used for split\n",
        "print(Seed_0)"
      ]
    },
    {
      "cell_type": "code",
      "execution_count": 49,
      "metadata": {},
      "outputs": [],
      "source": [
        "# Split dataset in train (0.8) and test (0.2)\n",
        "X_train, X_test, y_train, y_test = train_test_split(images, labels, test_size=0.2, random_state = Seed_0)"
      ]
    },
    {
      "cell_type": "code",
      "execution_count": null,
      "metadata": {},
      "outputs": [],
      "source": [
        "#Encode labels from text to integers.\n",
        "from sklearn import preprocessing\n",
        "le = preprocessing.LabelEncoder()\n",
        "le.fit(y_test)\n",
        "test_labels_encoded = le.transform(y_test)\n",
        "le.fit(y_train)\n",
        "train_labels_encoded = le.transform(y_train)\n",
        "\n",
        "#print(test_labels_encoded)\n",
        "print(train_labels_encoded)\n",
        "\n",
        "len(train_labels_encoded)\n",
        "Y_train = train_labels_encoded\n",
        "Y_test = test_labels_encoded\n",
        "#0 = Aprovechable\n",
        "#1 = No_Aprovechable"
      ]
    },
    {
      "cell_type": "code",
      "execution_count": 7,
      "metadata": {
        "id": "ZY8N1rmnxRkc"
      },
      "outputs": [],
      "source": [
        "# Import Inception V1 and freeze all layers\n",
        "Inception = hub.KerasLayer(\"https://tfhub.dev/google/imagenet/inception_v1/classification/5\", \n",
        "           trainable=False, \n",
        "           arguments=dict(batch_norm_momentum=0.997))\n",
        "\n",
        "Inception.build([None, 250, 250, 3])"
      ]
    },
    {
      "cell_type": "code",
      "execution_count": null,
      "metadata": {
        "colab": {
          "base_uri": "https://localhost:8080/"
        },
        "id": "VyaBx9x9xjqI",
        "outputId": "59cc09fc-e94f-4d4b-c4bc-9a491cdfbc73"
      },
      "outputs": [],
      "source": [
        "# Create a new model and use InceptionV1 with fine-tuning method\n",
        "LR = 0.001 #Learning rate\n",
        "\n",
        "model = tf.keras.Sequential([\n",
        "    \n",
        "    tf.keras.layers.Rescaling( 1./255, input_shape = ( 250, 250, 3 ) ), #Normalize data\n",
        "    Inception, #Import InceptionModel\n",
        "    tf.keras.layers.Dense( units = 256, activation = 'relu' ),\n",
        "    tf.keras.layers.BatchNormalization(),\n",
        "    tf.keras.layers.Dense( units = 1, activation = 'sigmoid' )\n",
        "])\n",
        "\n",
        "model.summary() #Summary of the architecture\n",
        "\n",
        "# Compile model with Adam as optimizer and BinaryCrossEntropy as loss function\n",
        "model.compile(optimizer = tf.keras.optimizers.Adam( learning_rate = LR ),\n",
        "              loss = tf.keras.losses.BinaryCrossentropy(from_logits=True),\n",
        "              metrics = ['accuracy', 'AUC', tf.keras.metrics.TruePositives(), tf.keras.metrics.TrueNegatives(), tf.keras.metrics.FalsePositives(), tf.keras.metrics.FalseNegatives()])\n",
        "\n",
        "# Train model with callbacks\n",
        "N_epochs = 20\n",
        "history = model.fit( x = X_train, y = Y_train, epochs = N_epochs, shuffle = True )"
      ]
    },
    {
      "cell_type": "code",
      "execution_count": null,
      "metadata": {
        "colab": {
          "base_uri": "https://localhost:8080/"
        },
        "id": "cbAqhu6oAArP",
        "outputId": "058cc0ad-b97c-495a-d0ac-9bd4d5bbabb5"
      },
      "outputs": [],
      "source": [
        "#Make predictions in the test split\n",
        "Predictions = model.predict(X_test)"
      ]
    },
    {
      "cell_type": "code",
      "execution_count": null,
      "metadata": {
        "colab": {
          "base_uri": "https://localhost:8080/"
        },
        "id": "A8h4CmJV7cz2",
        "outputId": "23bbff94-2139-48a2-84d1-ed57804c9eea"
      },
      "outputs": [],
      "source": [
        "#Convert predictions in integers \n",
        "Y_predict = []\n",
        "for i in Predictions:\n",
        "  if i > 0.5:\n",
        "    Y_predict.append(1)\n",
        "  else:\n",
        "    Y_predict.append(0)\n",
        "\n",
        "#Calculate and show metrics\n",
        "tn, fp, fn, tp = confusion_matrix(y_true=Y_test, y_pred=Y_predict).ravel()\n",
        "specificity_ = tn / (tn+fp)\n",
        "acc_ = accuracy_score( y_true = Y_test, y_pred = Y_predict )\n",
        "f1_ = f1_score( y_true = Y_test, y_pred = Y_predict )\n",
        "fpr_auc, tpr_auc, thresholds_keras = roc_curve(Y_test, Y_predict)\n",
        "auc_ = auc(fpr_auc, tpr_auc)\n",
        "recall_ = recall_score( y_true = Y_test, y_pred = Y_predict )\n",
        "mcc_ = matthews_corrcoef( y_true = Y_test, y_pred = Y_predict )\n",
        "print(\"Accuracy = {acc}\".format(acc=acc_))\n",
        "print(\"F1 score = {f1}\".format(f1=f1_))\n",
        "print(\"MCC = {mcc}\".format(mcc=mcc_))\n",
        "print(\"AUC = {auc}\".format(auc=auc_))\n",
        "print(\"Recall = {rc}\".format(rc=recall_))\n",
        "print(\"Specificity = {sp}\".format(sp=specificity_))\n",
        "print(\"Seed = {seed}\".format(seed=Seed_0))"
      ]
    },
    {
      "cell_type": "code",
      "execution_count": null,
      "metadata": {
        "colab": {
          "base_uri": "https://localhost:8080/"
        },
        "id": "YrTOJjRGBIgN",
        "outputId": "7c8d0478-0d14-4798-a9bc-7db0e9139fee"
      },
      "outputs": [],
      "source": [
        "#Plot ROC curve\n",
        "plt.figure(\"ROC-AUC Curve\")\n",
        "plt.plot([0, 1], [0, 1], 'k--')\n",
        "plt.plot(fpr_auc, tpr_auc, label='InceptionV1 (area = {:.3f})'.format(auc_), color = 'tab:orange')\n",
        "plt.xlabel('False positive rate')\n",
        "plt.ylabel('True positive rate')\n",
        "plt.title('ROC curve')\n",
        "plt.legend(loc='best')\n",
        "plt.show()"
      ]
    },
    {
      "cell_type": "code",
      "execution_count": null,
      "metadata": {
        "colab": {
          "base_uri": "https://localhost:8080/",
          "height": 312
        },
        "id": "htgl_WwXUOL-",
        "outputId": "7b85d625-61e5-4b2f-b182-2e033d0417f0"
      },
      "outputs": [],
      "source": [
        "#Ploting Validation metrics\n",
        "xdata = [ x for x in range(N_epochs) ]\n",
        "fig1 = plt.figure('Metrics')\n",
        "plt.plot(xdata, recall_, color = 'c', linewidth = 2,linestyle='dashed')\n",
        "plt.plot(xdata, specificity_, color = 'm',linewidth = 2,linestyle='dashed')\n",
        "plt.plot(xdata, mcc_, color = 'b',linewidth = 2.5)\n",
        "plt.plot(xdata, f1_, color = 'r',linewidth = 2.5)\n",
        "plt.plot(xdata, history.history['val_auc'], color = 'tab:orange',linewidth = 2.5)\n",
        "plt.plot(xdata, history.history['val_accuracy'], color = 'tab:olive',linewidth = 2.5)\n",
        "plt.legend(['Recall','Specificity','MCC','F1','AUC','Accuracy'])\n",
        "plt.title('Validation metrics')\n",
        "plt.xlabel('Epochs')\n",
        "plt.ylim(0, 1)"
      ]
    },
    {
      "cell_type": "code",
      "execution_count": null,
      "metadata": {
        "colab": {
          "base_uri": "https://localhost:8080/",
          "height": 295
        },
        "id": "n2gPKrOYUc6T",
        "outputId": "6d105f94-fd7a-483c-c64e-53b51e36ed1c"
      },
      "outputs": [],
      "source": [
        "#Ploting accuracy metrics Training vs Validation\n",
        "fig2 = plt.figure('Accuracy')\n",
        "plt.plot(xdata, history.history['accuracy'], color = 'tab:green',linewidth = 2.5)\n",
        "plt.plot(xdata, history.history['val_accuracy'], color = 'tab:olive',linewidth = 2.5)\n",
        "plt.legend(['Accuracy','val_accuracy'])\n",
        "plt.title('Accuracy vs val_accuracy')\n",
        "plt.xlabel('Epochs')\n",
        "plt.ylim(0, 1)\n",
        "plt.show()"
      ]
    }
  ],
  "metadata": {
    "colab": {
      "provenance": []
    },
    "kernelspec": {
      "display_name": "Python 3.9.7 ('base')",
      "language": "python",
      "name": "python3"
    },
    "language_info": {
      "codemirror_mode": {
        "name": "ipython",
        "version": 3
      },
      "file_extension": ".py",
      "mimetype": "text/x-python",
      "name": "python",
      "nbconvert_exporter": "python",
      "pygments_lexer": "ipython3",
      "version": "3.10.12"
    },
    "vscode": {
      "interpreter": {
        "hash": "13fe827e56afdefc6aa5d21465d46989dbcf4861e64c5725fb9f66e2dc6ab652"
      }
    }
  },
  "nbformat": 4,
  "nbformat_minor": 0
}
