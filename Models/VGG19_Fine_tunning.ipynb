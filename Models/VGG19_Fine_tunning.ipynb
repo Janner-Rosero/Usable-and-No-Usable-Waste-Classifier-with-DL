{
  "cells": [
    {
      "cell_type": "markdown",
      "metadata": {
        "id": "view-in-github",
        "colab_type": "text"
      },
      "source": [
        "<a href=\"https://colab.research.google.com/github/jett220201/Usable-and-No-Usable-Waste-Classifier-with-DL/blob/main/Models/VGG19_Fine_tunning.ipynb\" target=\"_parent\"><img src=\"https://colab.research.google.com/assets/colab-badge.svg\" alt=\"Open In Colab\"/></a>"
      ]
    },
    {
      "cell_type": "markdown",
      "source": [
        "# Solid waste sorter (PUJ) using VGG19\n",
        "\n",
        "- Juan Esteban Torres Tamayo\n",
        "- Janner Arley Rosero Mora"
      ],
      "metadata": {
        "id": "PIqWalbEGxY5"
      },
      "id": "PIqWalbEGxY5"
    },
    {
      "cell_type": "markdown",
      "id": "578b7f8f",
      "metadata": {
        "id": "578b7f8f"
      },
      "source": [
        "**Import libraries**"
      ]
    },
    {
      "cell_type": "code",
      "execution_count": null,
      "id": "e54c9e46",
      "metadata": {
        "id": "e54c9e46"
      },
      "outputs": [],
      "source": [
        "%matplotlib notebook\n",
        "#Only activate if you're using Jupyter Notebook"
      ]
    },
    {
      "cell_type": "code",
      "execution_count": null,
      "id": "0e043703",
      "metadata": {
        "id": "0e043703"
      },
      "outputs": [],
      "source": [
        "import os\n",
        "import cv2\n",
        "import glob\n",
        "import random\n",
        "import numpy as np\n",
        "import tensorflow as tf\n",
        "import tensorflow_hub as hub\n",
        "from keras.models import Model\n",
        "from sklearn.metrics import auc\n",
        "import matplotlib.pyplot as plt\n",
        "from sklearn.metrics import roc_curve\n",
        "from sklearn.metrics import make_scorer\n",
        "from keras.applications.vgg19 import VGG19\n",
        "from sklearn.metrics import matthews_corrcoef\n",
        "from matplotlib.collections import EventCollection\n",
        "from sklearn.model_selection import train_test_split"
      ]
    },
    {
      "cell_type": "code",
      "execution_count": null,
      "id": "cf4824bf",
      "metadata": {
        "id": "cf4824bf"
      },
      "outputs": [],
      "source": [
        "# Read input images and assign labels based on folder names\n",
        "print(os.listdir(\"data/\"))\n",
        "SIZE = 224  #Resize images "
      ]
    },
    {
      "cell_type": "markdown",
      "id": "5bc9c0a9",
      "metadata": {
        "id": "5bc9c0a9"
      },
      "source": [
        "Control Parameters"
      ]
    },
    {
      "cell_type": "code",
      "execution_count": null,
      "id": "2c07a22c",
      "metadata": {
        "id": "2c07a22c"
      },
      "outputs": [],
      "source": [
        "Seed_0 = random.randint(1,2**32)\n",
        "N_epochs = 50\n",
        "Batch_size = 64\n",
        "LR = 0.0001\n",
        "Shuffle = True"
      ]
    },
    {
      "cell_type": "code",
      "execution_count": null,
      "id": "119b0020",
      "metadata": {
        "scrolled": true,
        "id": "119b0020"
      },
      "outputs": [],
      "source": [
        "#Capture training data and labels into respective lists\n",
        "images = []\n",
        "labels = [] \n",
        "\n",
        "for directory_path in glob.glob(\"data/*\"):\n",
        "    label = directory_path.split(\"\\\\\")[-1]\n",
        "    print(label)\n",
        "    for img_path in glob.glob(os.path.join(directory_path, \"*.jpg\")):\n",
        "        #print(img_path)\n",
        "        img = cv2.imread(img_path, cv2.IMREAD_COLOR)       \n",
        "        img = cv2.resize(img, (SIZE, SIZE))\n",
        "        images.append(img)\n",
        "        labels.append(label)\n",
        "\n",
        "#Convert lists to arrays        \n",
        "images = np.array(images)\n",
        "labels = np.array(labels)\n",
        "  "
      ]
    },
    {
      "cell_type": "code",
      "execution_count": null,
      "id": "2827375b",
      "metadata": {
        "id": "2827375b"
      },
      "outputs": [],
      "source": [
        "#Spliting Dataset\n",
        "X_train, X_test, y_train, y_test = train_test_split(images, labels, test_size=0.2, random_state=Seed_0)\n",
        "images.shape"
      ]
    },
    {
      "cell_type": "code",
      "execution_count": null,
      "id": "29919adc",
      "metadata": {
        "id": "29919adc"
      },
      "outputs": [],
      "source": [
        "#Encode labels from text to integers.\n",
        "from sklearn import preprocessing\n",
        "le = preprocessing.LabelEncoder()\n",
        "le.fit(y_test)\n",
        "test_labels_encoded = le.transform(y_test)\n",
        "le.fit(y_train)\n",
        "train_labels_encoded = le.transform(y_train)\n",
        "\n",
        "#print(test_labels_encoded)\n",
        "print(train_labels_encoded)\n",
        "len(train_labels_encoded)\n",
        "\n",
        "#0 = Aprovechable\n",
        "#1 = No_Aprovechable"
      ]
    },
    {
      "cell_type": "markdown",
      "id": "c6342c82",
      "metadata": {
        "id": "c6342c82"
      },
      "source": [
        "# Preprocessing is needed\n",
        "\n",
        "Note: each Keras Application expects a specific kind of input preprocessing. For VGG19, call `tf.keras.applications.vgg19.preprocess_input` on your inputs before passing them to the model. vgg19.preprocess_input will convert the input images from RGB to BGR, then will zero-center each color channel with respect to the ImageNet dataset, without scaling.\n",
        "\n",
        "\n",
        "Source: https://keras.io/api/applications/vgg/#vgg19-function"
      ]
    },
    {
      "cell_type": "code",
      "execution_count": null,
      "id": "f0817b07",
      "metadata": {
        "id": "f0817b07"
      },
      "outputs": [],
      "source": [
        "#Inputs\n",
        "X_train = tf.keras.applications.vgg19.preprocess_input(X_train)\n",
        "Y_train = train_labels_encoded\n",
        "X_test = tf.keras.applications.vgg19.preprocess_input(X_test)\n",
        "Y_test = test_labels_encoded"
      ]
    },
    {
      "cell_type": "code",
      "execution_count": null,
      "id": "5946a200",
      "metadata": {
        "id": "5946a200"
      },
      "outputs": [],
      "source": [
        "#Normalize pixel values between 0 and 1\n",
        "X_train = X_train / 255.0 \n",
        "X_test = X_test / 255.0"
      ]
    },
    {
      "cell_type": "code",
      "execution_count": null,
      "id": "6f355129",
      "metadata": {
        "id": "6f355129"
      },
      "outputs": [],
      "source": [
        "#Create model VGG19 for Fine Tunning\n",
        "\n",
        "base_model = tf.keras.applications.VGG19(include_top=False, weights='imagenet', input_shape=(224, 224, 3))\n",
        "base_model.trainable = False\n",
        "base_model.summary()\n",
        "\n",
        "x = tf.keras.layers.Flatten()( base_model.output )\n",
        "x = tf.keras.layers.Dense(4096, activation='relu')( x )\n",
        "x = tf.keras.layers.BatchNormalization()(x)\n",
        "x = tf.keras.layers.Dense(4096, activation='relu')( x )\n",
        "x = tf.keras.layers.BatchNormalization()(x)\n",
        "outputs = tf.keras.layers.Dense(1, activation='sigmoid')( x )\n",
        "\n",
        "model = tf.keras.models.Model( base_model.input , outputs )\n",
        "model.summary()"
      ]
    },
    {
      "cell_type": "code",
      "execution_count": null,
      "id": "718aa968",
      "metadata": {
        "id": "718aa968"
      },
      "outputs": [],
      "source": [
        "# Generating path to save weights per epoch \n",
        "checkpoint_path = \"training/cp-{epoch:d}.ckpt\"\n",
        "checkpoint_dir = os.path.dirname(checkpoint_path)\n",
        "\n",
        "# Create a callback that saves the model's weights\n",
        "cp_callback = tf.keras.callbacks.ModelCheckpoint(\n",
        "    filepath = checkpoint_path, \n",
        "    verbose = 1, \n",
        "    save_weights_only = True,\n",
        "    save_freq = 'epoch')"
      ]
    },
    {
      "cell_type": "code",
      "execution_count": null,
      "id": "ac949cce",
      "metadata": {
        "scrolled": false,
        "id": "ac949cce"
      },
      "outputs": [],
      "source": [
        "# Model training\n",
        "\n",
        "model.compile(optimizer = tf.keras.optimizers.Adam( learning_rate = LR  ),\n",
        "              loss='binary_crossentropy',\n",
        "              metrics=['accuracy',\n",
        "                       'AUC',\n",
        "                       tf.keras.metrics.TruePositives(),\n",
        "                       tf.keras.metrics.TrueNegatives(),\n",
        "                       tf.keras.metrics.FalsePositives(),\n",
        "                       tf.keras.metrics.FalseNegatives()])\n",
        "\n",
        "history = model.fit(x = X_train,\n",
        "                    y = Y_train,\n",
        "                    batch_size = Batch_size,\n",
        "                    epochs = N_epochs,\n",
        "                    verbose = 1,\n",
        "                    shuffle = Shuffle,\n",
        "                    validation_data = (X_test, Y_test),\n",
        "                    callbacks=[cp_callback])"
      ]
    },
    {
      "cell_type": "code",
      "execution_count": null,
      "id": "89049667",
      "metadata": {
        "id": "89049667"
      },
      "outputs": [],
      "source": [
        "# Get values of TN, FP, FN, TP for the confusion matrix\n",
        "\n",
        "FN = history.history['val_false_negatives'] # For each compile the number plus by \n",
        "TN = history.history['val_true_negatives']  # 1 -> false_negatives_1,2,3....\n",
        "FP = history.history['val_false_positives']\n",
        "TP = history.history['val_true_positives']"
      ]
    },
    {
      "cell_type": "code",
      "execution_count": null,
      "id": "85c3e5c2",
      "metadata": {
        "id": "85c3e5c2"
      },
      "outputs": [],
      "source": [
        "\n",
        "print('-Values of Confusion Matrix-')\n",
        "print('False Negatives: ', FN)\n",
        "print('True Negatives: ', TN)\n",
        "print('False Positives: ', FP)\n",
        "print('True Positives: ', TP,'\\n')\n",
        "\n",
        "# Show Confusion Matrix\n",
        "print('-Confusion Matrix-')\n",
        "for i in range(N_epochs):\n",
        "    Matrix = np.zeros((2,2))\n",
        "    Matrix[0][0] = TN[i]\n",
        "    Matrix[0][1] = FP[i]\n",
        "    Matrix[1][0] = FN[i]\n",
        "    Matrix[1][1] = TP[i]\n",
        "    print(Matrix,'\\n')\n",
        "\n",
        "\n",
        "#Calculate F1 Score\n",
        "F1 = []\n",
        "for i in range(N_epochs):\n",
        "    try:\n",
        "        temp = ( ( 2*TP[i] ) / ( 2*TP[i] + FP[i] + FN[i] ) )\n",
        "    except:\n",
        "        temp = 0\n",
        "    F1.append(temp)\n",
        "print('-Result for F1 Score-')\n",
        "print(F1,'\\n')\n",
        "\n",
        "\n",
        "#Calculate MCC\n",
        "MCC = []\n",
        "for i in range(N_epochs):\n",
        "    try:\n",
        "        temp = ( (TP[i]*TN[i]) - (FP[i]*FN[i]) ) / ( np.sqrt( (TP[i]+FP[i])*(TP[i]+FN[i])*(TN[i]+FP[i])*(TN[i]+FN[i]) ) )\n",
        "    except:\n",
        "        temp = 0\n",
        "    MCC.append(temp)\n",
        "print('-Result for MCC-')\n",
        "print(MCC,'\\n')\n",
        "\n",
        "\n",
        "#Calculate Recall - Validation\n",
        "Recall = []\n",
        "for i in range(N_epochs):\n",
        "    try:\n",
        "        temp = ( TP[i] / ( TP[i] + FN[i] ) )\n",
        "    except:\n",
        "        temp = 0\n",
        "    Recall.append(temp)\n",
        "print('-Result for Recall-')\n",
        "print(Recall,'\\n')\n",
        "\n",
        "\n",
        "#Calculate Specificity - Validation\n",
        "Specificity = []\n",
        "for i in range(N_epochs):\n",
        "    try:\n",
        "        temp = ( TN[i] / ( TN[i] + FP[i] )  )\n",
        "    except:\n",
        "        temp = 0\n",
        "    Specificity.append(temp)\n",
        "print('-Result for Specificity-')\n",
        "print(Specificity,'\\n')"
      ]
    },
    {
      "cell_type": "code",
      "execution_count": null,
      "id": "e306d53b",
      "metadata": {
        "id": "e306d53b"
      },
      "outputs": [],
      "source": [
        "#Show validation metrics\n",
        "\n",
        "xdata = [ x for x in range(N_epochs) ]\n",
        "fig1 = plt.figure('Metrics')\n",
        "plt.plot(history.history['val_accuracy'].index(max(history.history['val_accuracy'])), max(history.history['val_accuracy']), marker = 'o', markerfacecolor = 'red', markersize = 12)\n",
        "plt.plot(xdata, Recall, color = 'c', linewidth = 2,linestyle='dashed')\n",
        "plt.plot(xdata, Specificity, color = 'm',linewidth = 2,linestyle='dashed')\n",
        "plt.plot(xdata, MCC, color = 'b',linewidth = 2.5)\n",
        "plt.plot(xdata, F1, color = 'r',linewidth = 2.5)\n",
        "plt.plot(xdata, history.history['val_auc'], color = 'tab:orange',linewidth = 2.5)\n",
        "plt.plot(xdata, history.history['val_accuracy'], color = 'tab:olive',linewidth = 2.5)\n",
        "plt.legend(['Best score','Recall','Specificity','MCC','F1','AUC','Accuracy'])\n",
        "plt.title('Validation metrics')\n",
        "plt.xlabel('Epochs')\n",
        "plt.ylim(0, 1)"
      ]
    },
    {
      "cell_type": "code",
      "execution_count": null,
      "id": "d3cb7c45",
      "metadata": {
        "id": "d3cb7c45"
      },
      "outputs": [],
      "source": [
        "#Show accuracy metrics\n",
        "\n",
        "fig2 = plt.figure('Accuracy')\n",
        "plt.plot(history.history['val_accuracy'].index(max(history.history['val_accuracy'])), max(history.history['val_accuracy']), marker = 'o', markerfacecolor = 'red', markersize = 12)\n",
        "plt.plot(xdata, history.history['accuracy'], color = 'tab:green',linewidth = 2.5)\n",
        "plt.plot(xdata, history.history['val_accuracy'], color = 'tab:olive',linewidth = 2.5)\n",
        "plt.legend(['Best Score','Accuracy','val_accuracy'])\n",
        "plt.title('Accuracy vs val_accuracy')\n",
        "plt.xlabel('Epochs')\n",
        "plt.ylim(0, 1)\n",
        "plt.show()"
      ]
    },
    {
      "cell_type": "code",
      "execution_count": null,
      "id": "ca4b4b69",
      "metadata": {
        "id": "ca4b4b69"
      },
      "outputs": [],
      "source": [
        "#Calculating AUC - ROC curve\n",
        "\n",
        "Y_tf = model.predict(X_test).ravel()\n",
        "fpr_keras, tpr_keras, thresholds_keras = roc_curve(Y_test, Y_tf)\n",
        "auc_keras = auc(fpr_keras, tpr_keras)"
      ]
    },
    {
      "cell_type": "code",
      "execution_count": null,
      "id": "35a997e2",
      "metadata": {
        "id": "35a997e2"
      },
      "outputs": [],
      "source": [
        "#show ROC-AUC Curve\n",
        "plt.figure(\"ROC-AUC Curve\")\n",
        "plt.plot([0, 1], [0, 1], 'k--')\n",
        "plt.plot(fpr_keras, tpr_keras, label='VGG19 (area = {:.3f})'.format(auc_keras), color = 'tab:orange')\n",
        "plt.xlabel('False positive rate')\n",
        "plt.ylabel('True positive rate')\n",
        "plt.title('ROC curve')\n",
        "plt.legend(loc='best')\n",
        "plt.show()\n",
        "\n",
        "# Zoom in view of the upper left corner.\n",
        "plt.figure('Zoomed')\n",
        "plt.xlim(0, 0.4)\n",
        "plt.ylim(0.6, 1)\n",
        "plt.plot([0, 1], [0, 1], 'k--')\n",
        "plt.plot(fpr_keras, tpr_keras, label='VGG19 (area = {:.3f})'.format(auc_keras),color = 'tab:orange')\n",
        "plt.xlabel('False positive rate')\n",
        "plt.ylabel('True positive rate')\n",
        "plt.title('ROC curve (zoomed in at top left)')\n",
        "plt.legend(loc='best')"
      ]
    },
    {
      "cell_type": "markdown",
      "id": "ee3d79e1",
      "metadata": {
        "id": "ee3d79e1"
      },
      "source": [
        "AUC - ROC curve - Based on :https://medium.com/hackernoon/simple-guide-on-how-to-generate-roc-plot-for-keras-classifier-2ecc6c73115a"
      ]
    },
    {
      "cell_type": "code",
      "execution_count": null,
      "id": "c1f004e1",
      "metadata": {
        "id": "c1f004e1"
      },
      "outputs": [],
      "source": [
        "print('=======================================')\n",
        "print(\"|            Best Scores               |\")\n",
        "print('=======================================\\n')\n",
        "print('        Epoch :        {}'.format(history.history['val_accuracy'].index(max(history.history['val_accuracy']))))\n",
        "print('        Val_Accuracy : {:.4f}'.format(history.history['val_accuracy'][history.history['val_accuracy'].index(max(history.history['val_accuracy']))]))\n",
        "print('        Recall :       {:.4f}'.format(Recall[history.history['val_accuracy'].index(max(history.history['val_accuracy']))]))\n",
        "print('        Specificity :  {:.4f}'.format(Specificity[history.history['val_accuracy'].index(max(history.history['val_accuracy']))]))\n",
        "print('        AUC :          {:.4f}'.format(history.history['val_auc'][history.history['val_accuracy'].index(max(history.history['val_accuracy']))]))\n",
        "print('        F1 Score :     {:.4f}'.format(F1[history.history['val_accuracy'].index(max(history.history['val_accuracy']))]))\n",
        "print('        MCC :          {:.4f}'.format(MCC[history.history['val_accuracy'].index(max(history.history['val_accuracy']))]))\n",
        "print('        Seed:         ',Seed_0)\n",
        "\n",
        "#print the best result of the whole training process"
      ]
    },
    {
      "cell_type": "markdown",
      "id": "c0ec10bd",
      "metadata": {
        "id": "c0ec10bd"
      },
      "source": [
        "#Export model for storage"
      ]
    },
    {
      "cell_type": "code",
      "execution_count": null,
      "id": "d22ec3e7",
      "metadata": {
        "id": "d22ec3e7"
      },
      "outputs": [],
      "source": [
        "#Save model\n",
        "model.save('Model/VGG19.h5')"
      ]
    },
    {
      "cell_type": "markdown",
      "id": "0129fa0a",
      "metadata": {
        "id": "0129fa0a"
      },
      "source": [
        "#Load Model"
      ]
    },
    {
      "cell_type": "code",
      "execution_count": null,
      "id": "3b4d06e1",
      "metadata": {
        "id": "3b4d06e1"
      },
      "outputs": [],
      "source": [
        "#Load the saved model \n",
        "new_model = tf.keras.models.load_model( 'Model/VGG19.h5', custom_objects={'KerasLayer':hub.KerasLayer}, compile=True, options=None )\n",
        "#Show the model architecture\n",
        "new_model.summary()"
      ]
    },
    {
      "cell_type": "code",
      "execution_count": null,
      "id": "960e3d80",
      "metadata": {
        "id": "960e3d80"
      },
      "outputs": [],
      "source": [
        "#Setting Best weights saved\n",
        "\n",
        "Base = 'training/cp-{}.ckpt'\n",
        "BestWeights = Base.format(history.history['val_accuracy'].index(max(history.history['val_accuracy'])) + 1 )\n",
        "\n",
        "#Loading Best weights saved on new_model\n",
        "\n",
        "model.load_weights(BestWeights)"
      ]
    },
    {
      "cell_type": "code",
      "execution_count": null,
      "id": "d23f3947",
      "metadata": {
        "id": "d23f3947"
      },
      "outputs": [],
      "source": [
        "#Verify metrics\n",
        "# Evaluate the restored model\n",
        "\n",
        "loss, acc, aucscore, tp, tn, fp, fn = model.evaluate(X_test, Y_test, verbose=2)\n",
        "print('Restored model, accuracy: {:5.2f}%'.format(100 * acc))"
      ]
    },
    {
      "cell_type": "code",
      "execution_count": null,
      "id": "b1aa3443",
      "metadata": {
        "id": "b1aa3443",
        "outputId": "4d139666-59d9-4c9e-dc3d-22f82cc74095"
      },
      "outputs": [
        {
          "name": "stdout",
          "output_type": "stream",
          "text": [
            "13/13 [==============================] - 66s 5s/step\n"
          ]
        }
      ],
      "source": [
        "#Calculating AUC - ROC curve / Restored model\n",
        "\n",
        "Y_tf = model.predict(X_test).ravel()\n",
        "fpr_keras, tpr_keras, thresholds_keras = roc_curve(Y_test, Y_tf)\n",
        "auc_keras = auc(fpr_keras, tpr_keras)"
      ]
    },
    {
      "cell_type": "code",
      "execution_count": null,
      "id": "993d144c",
      "metadata": {
        "id": "993d144c"
      },
      "outputs": [],
      "source": [
        "#Show ROC - AUC Curve - Recovered model\n",
        "plt.figure(\"ROC-AUC Curve - Recovered model\")\n",
        "plt.plot([0, 1], [0, 1], 'k--')\n",
        "plt.plot(fpr_keras, tpr_keras, label='VGG19 Restored model (area = {:.3f})'.format(auc_keras), color = 'tab:orange')\n",
        "plt.xlabel('False positive rate')\n",
        "plt.ylabel('True positive rate')\n",
        "plt.title('ROC curve')\n",
        "plt.legend(loc='best')\n",
        "plt.show()\n",
        "# Zoom in view of the upper left corner.\n",
        "plt.figure('Zoomed - Recovered model')\n",
        "plt.xlim(0, 0.4)\n",
        "plt.ylim(0.6, 1)\n",
        "plt.plot([0, 1], [0, 1], 'k--')\n",
        "plt.plot(fpr_keras, tpr_keras, label='VGG19 Restored model(area = {:.3f})'.format(auc_keras),color = 'tab:orange')\n",
        "plt.xlabel('False positive rate')\n",
        "plt.ylabel('True positive rate')\n",
        "plt.title('ROC curve (zoomed in at top left)')\n",
        "plt.legend(loc='best')"
      ]
    },
    {
      "cell_type": "code",
      "execution_count": null,
      "id": "877a22c1",
      "metadata": {
        "id": "877a22c1"
      },
      "outputs": [],
      "source": [
        "#Show predicted vs real labels\n",
        "\n",
        "index = 0\n",
        "for i in Y_tf:\n",
        "    if i >= 0.5:\n",
        "        Y_tf[index] = int(1)\n",
        "    else:\n",
        "        Y_tf[index] = int(0)\n",
        "    index += 1\n",
        "print(\"                           *** Real Labels ***\\n\")\n",
        "print(Y_test,'\\n')\n",
        "print(\"                         *** Predicted Labels ***\\n\")\n",
        "print( Y_tf)"
      ]
    },
    {
      "cell_type": "code",
      "execution_count": null,
      "id": "b70f568e",
      "metadata": {
        "id": "b70f568e"
      },
      "outputs": [],
      "source": [
        "#Validate real ACC of restored model\n",
        "\n",
        "index = 0\n",
        "tp_val = 0\n",
        "for c in Y_test:\n",
        "    if Y_test[index] == Y_tf[index]:\n",
        "        tp_val += 1\n",
        "    index += 1\n",
        "print('  Manual ACC_Val:   {:.2f}%'.format(100*tp_val/len(Y_test)))"
      ]
    }
  ],
  "metadata": {
    "kernelspec": {
      "display_name": "GPU",
      "language": "python",
      "name": "gpu"
    },
    "language_info": {
      "codemirror_mode": {
        "name": "ipython",
        "version": 3
      },
      "file_extension": ".py",
      "mimetype": "text/x-python",
      "name": "python",
      "nbconvert_exporter": "python",
      "pygments_lexer": "ipython3",
      "version": "3.9.13"
    },
    "colab": {
      "provenance": [],
      "include_colab_link": true
    }
  },
  "nbformat": 4,
  "nbformat_minor": 5
}