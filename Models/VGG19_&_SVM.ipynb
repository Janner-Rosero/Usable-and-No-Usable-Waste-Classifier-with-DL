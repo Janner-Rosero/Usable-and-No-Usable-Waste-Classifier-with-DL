{
  "cells": [
    {
      "cell_type": "markdown",
      "metadata": {
        "id": "view-in-github",
        "colab_type": "text"
      },
      "source": [
        "<a href=\"https://colab.research.google.com/github/jett220201/Usable-and-No-Usable-Waste-Classifier-with-DL/blob/main/Models/VGG19_%26_SVM.ipynb\" target=\"_parent\"><img src=\"https://colab.research.google.com/assets/colab-badge.svg\" alt=\"Open In Colab\"/></a>"
      ]
    },
    {
      "cell_type": "markdown",
      "id": "165506ec",
      "metadata": {
        "id": "165506ec"
      },
      "source": [
        "# Solid waste sorter (PUJ) using VGG19 & SVM\n",
        "\n",
        "- Juan Esteban Torres Tamayo\n",
        "- Janner Arley Rosero Mora\n",
        "\n",
        "Based on:\n",
        " https://github.com/bnsreenu/python_for_microscopists/blob/master/158b_transfer_learning_using_CNN_weights_VGG16_RF.py"
      ]
    },
    {
      "cell_type": "code",
      "execution_count": null,
      "id": "a9d27555",
      "metadata": {
        "id": "a9d27555"
      },
      "outputs": [],
      "source": [
        "import os\n",
        "import cv2\n",
        "import glob\n",
        "import random\n",
        "import sklearn\n",
        "import numpy as np\n",
        "import pandas as pd \n",
        "import seaborn as sns\n",
        "import tensorflow as tf\n",
        "from sklearn import svm\n",
        "from sklearn.svm import SVC\n",
        "from sklearn import metrics\n",
        "from sklearn.metrics import auc\n",
        "import matplotlib.pyplot as plt\n",
        "from sklearn import preprocessing\n",
        "from sklearn.metrics import roc_curve\n",
        "from sklearn.metrics import make_scorer\n",
        "from keras.applications.vgg19 import VGG19\n",
        "from keras.models import Model, Sequential\n",
        "from sklearn.metrics import matthews_corrcoef\n",
        "from sklearn.model_selection import GridSearchCV\n",
        "from matplotlib.collections import EventCollection\n",
        "from sklearn.model_selection import train_test_split\n",
        "\n",
        "#########################################################\n",
        "MCC_scorer = make_scorer(matthews_corrcoef)  #Create MCC scorer for validate score\n",
        "#########################################################\n"
      ]
    },
    {
      "cell_type": "code",
      "execution_count": null,
      "id": "1fd88cbd",
      "metadata": {
        "id": "1fd88cbd"
      },
      "outputs": [],
      "source": [
        "# Read input images and assign labels based on folder names\n",
        "print(os.listdir(\"data/\"))\n",
        "SIZE = 224  #Resize images"
      ]
    },
    {
      "cell_type": "code",
      "execution_count": null,
      "id": "92b7988c",
      "metadata": {
        "id": "92b7988c"
      },
      "outputs": [],
      "source": [
        "#Capture training data and labels into respective lists\n",
        "images = []\n",
        "labels = [] \n",
        "\n",
        "for directory_path in glob.glob(\"data/*\"):\n",
        "    label = directory_path.split(\"\\\\\")[-1]\n",
        "    print(label)\n",
        "    for img_path in glob.glob(os.path.join(directory_path, \"*.jpg\")):\n",
        "        img = cv2.imread(img_path, cv2.IMREAD_COLOR)       \n",
        "        img = cv2.resize(img, (SIZE, SIZE))\n",
        "        images.append(img)\n",
        "        labels.append(label)\n",
        "\n",
        "#Convert lists to arrays        \n",
        "images = np.array(images)\n",
        "labels = np.array(labels)\n"
      ]
    },
    {
      "cell_type": "code",
      "execution_count": null,
      "id": "508ffa4e",
      "metadata": {
        "id": "508ffa4e"
      },
      "outputs": [],
      "source": [
        "Seed_0 = random.randint(1,2**32 - 1) #Seed used for split"
      ]
    },
    {
      "cell_type": "code",
      "execution_count": null,
      "id": "49fb8254",
      "metadata": {
        "id": "49fb8254"
      },
      "outputs": [],
      "source": [
        "#Spliting Dataset\n",
        "X_train, X_test, y_train, y_test = train_test_split(images, labels, test_size=0.2, random_state = Seed_0)"
      ]
    },
    {
      "cell_type": "code",
      "execution_count": null,
      "id": "94f50421",
      "metadata": {
        "id": "94f50421"
      },
      "outputs": [],
      "source": [
        "#Encode labels from text to integers.\n",
        "\n",
        "le = preprocessing.LabelEncoder()\n",
        "le.fit(y_test)\n",
        "test_labels_encoded = le.transform(y_test)\n",
        "le.fit(y_train)\n",
        "train_labels_encoded = le.transform(y_train)\n",
        "\n",
        "#print(test_labels_encoded)\n",
        "print(train_labels_encoded)\n",
        "len(train_labels_encoded)\n",
        "\n",
        "#0 = Aprovechable\n",
        "#1 = No_Aprovechable"
      ]
    },
    {
      "cell_type": "markdown",
      "id": "a506e20e",
      "metadata": {
        "id": "a506e20e"
      },
      "source": [
        "# Preprocessing is needed\n",
        "\n",
        "Note: each Keras Application expects a specific kind of input preprocessing. For VGG19, call `tf.keras.applications.vgg19.preprocess_input` on your inputs before passing them to the model. vgg19.preprocess_input will convert the input images from RGB to BGR, then will zero-center each color channel with respect to the ImageNet dataset, without scaling.\n",
        "\n",
        "\n",
        "Source: https://keras.io/api/applications/vgg/#vgg19-function"
      ]
    },
    {
      "cell_type": "code",
      "execution_count": null,
      "id": "c0b02993",
      "metadata": {
        "id": "c0b02993"
      },
      "outputs": [],
      "source": [
        "#Inputs\n",
        "X_train = tf.keras.applications.vgg19.preprocess_input(X_train)\n",
        "Y_train = train_labels_encoded\n",
        "X_test = tf.keras.applications.vgg19.preprocess_input(X_test)\n",
        "Y_test = test_labels_encoded"
      ]
    },
    {
      "cell_type": "code",
      "execution_count": null,
      "id": "a0a3dbce",
      "metadata": {
        "id": "a0a3dbce"
      },
      "outputs": [],
      "source": [
        "#Charging VGG19 model\n",
        "\n",
        "VGG19model = VGG19(\n",
        "    include_top=False,\n",
        "    weights=\"imagenet\",\n",
        "    input_tensor=None,\n",
        "    input_shape=None,\n",
        "    pooling=None,\n",
        "    classes=1000,\n",
        "    classifier_activation=\"softmax\",\n",
        ")\n",
        "\n",
        "#Make loaded layers as non-trainable. This is important as we want to work with pre-trained weights\n",
        "\n",
        "for layer in VGG19model.layers:\n",
        "    layer.trainable = False\n",
        "\n",
        "VGG19model.summary()  #Trainable parameters will be 0"
      ]
    },
    {
      "cell_type": "code",
      "execution_count": null,
      "id": "5c49229b",
      "metadata": {
        "id": "5c49229b"
      },
      "outputs": [],
      "source": [
        "#Now, let us use features from convolutional network for SVM\n",
        "\n",
        "feature_extractor=VGG19model.predict(X_train)\n",
        "\n",
        "features = feature_extractor.reshape(feature_extractor.shape[0], -1)\n",
        "\n",
        "X_for_SVM = features #This is our X input to SVM\n",
        "\n",
        "############################################################\n",
        "\n",
        "X_test_feature = VGG19model.predict(X_test)\n",
        "\n",
        "X_test_features = X_test_feature.reshape(X_test_feature.shape[0], -1)\n"
      ]
    },
    {
      "cell_type": "markdown",
      "id": "5af4f7d6",
      "metadata": {
        "id": "5af4f7d6"
      },
      "source": [
        "Source: https://scikit-learn.org/stable/modules/svm.html"
      ]
    },
    {
      "cell_type": "code",
      "execution_count": null,
      "id": "5071e833",
      "metadata": {
        "scrolled": true,
        "id": "5071e833"
      },
      "outputs": [],
      "source": [
        "# Hyperparameter Optimization\n",
        "\n",
        "print(svm.SVC().__doc__)"
      ]
    },
    {
      "cell_type": "code",
      "execution_count": null,
      "id": "a6092371",
      "metadata": {
        "scrolled": true,
        "id": "a6092371"
      },
      "outputs": [],
      "source": [
        "  # defining parameter range\n",
        "param_grid1 = {\n",
        "    'C': [ 0.01, 0.1, 1.0, 5, 10, 100,1000],\n",
        "    'class_weight': [\"balanced\",None],\n",
        "    'decision_function_shape': ['ovo', 'ovr'],\n",
        "    'degree': [ 1, 2, 3, 4, 5,6],\n",
        "    'gamma': ['scale', 'auto'],\n",
        "    'kernel': ['poly'],\n",
        "    'probability': [False, True],\n",
        "    'tol': [0.001, 0.0001, 0.00001]} \n",
        "  \n",
        "grid1 = GridSearchCV(SVC(),\n",
        "                    param_grid1,\n",
        "                    refit = True,\n",
        "                    verbose = 3,\n",
        "                    scoring = MCC_scorer)\n",
        "  \n",
        "# fitting the model for grid search\n",
        "grid1.fit(X_for_SVM, Y_train)\n",
        "\n",
        "# print best parameter after tuning\n",
        "print(grid1.best_params_)\n",
        "  \n",
        "# print how our model looks after hyper-parameter tuning\n",
        "print(grid1.best_estimator_)"
      ]
    },
    {
      "cell_type": "code",
      "execution_count": null,
      "id": "b34d653d",
      "metadata": {
        "id": "b34d653d"
      },
      "outputs": [],
      "source": [
        "# defining parameter range\n",
        "param_grid2 = {\n",
        "    'C': [ 0.1, 1.0, 5, 10, 100,1000]\n",
        "} \n",
        "  \n",
        "grid2 = GridSearchCV(SVC(),\n",
        "                    param_grid2,\n",
        "                    refit = True,\n",
        "                    verbose = 3,\n",
        "                    scoring = MCC_scorer,\n",
        "                    n_jobs = -1)\n",
        "  \n",
        "# fitting the model for grid search\n",
        "grid2.fit(X_for_SVM, Y_train)\n",
        "\n",
        "# print best parameter after tuning\n",
        "print(grid2.best_params_)\n",
        "  \n",
        "# print how our model looks after hyper-parameter tuning\n",
        "print(grid2.best_estimator_)\n",
        "\n",
        "#Print best score MCC\n",
        "print('Best score: ',grid2.best_score_)"
      ]
    },
    {
      "cell_type": "code",
      "execution_count": null,
      "id": "f0e4f968",
      "metadata": {
        "id": "f0e4f968"
      },
      "outputs": [],
      "source": [
        "# Save the best hyperparameter\n",
        "Best_C = grid2.best_params_.get('C') \n",
        "print('Best C = ',Best_C)\n",
        "print(type(Best_C))"
      ]
    },
    {
      "cell_type": "code",
      "execution_count": null,
      "id": "106d48de",
      "metadata": {
        "id": "106d48de"
      },
      "outputs": [],
      "source": [
        "# defining parameter range\n",
        "param_grid3 = {\n",
        "    'gamma': [ 0.01, 0.1, 0.2, 0.3, 0.4, 0.5, 0.6, 0.7, 0.8, 0.9, 1]\n",
        "} \n",
        "  \n",
        "grid3 = GridSearchCV(SVC(C = Best_C),\n",
        "                    param_grid3,\n",
        "                    refit = True,\n",
        "                    verbose = 3,\n",
        "                    scoring = MCC_scorer,\n",
        "                    n_jobs = -1)\n",
        "  \n",
        "# fitting the model for grid search\n",
        "grid3.fit(X_for_SVM, Y_train)\n",
        "\n",
        "# print best parameter after tuning\n",
        "print(grid3.best_params_)\n",
        "  \n",
        "# print how our model looks after hyper-parameter tuning\n",
        "print(grid3.best_estimator_)"
      ]
    },
    {
      "cell_type": "code",
      "execution_count": null,
      "id": "1c10f1c2",
      "metadata": {
        "id": "1c10f1c2"
      },
      "outputs": [],
      "source": [
        "print('Best score: ',grid3.best_score_)"
      ]
    },
    {
      "cell_type": "code",
      "execution_count": null,
      "id": "9616405f",
      "metadata": {
        "id": "9616405f"
      },
      "outputs": [],
      "source": [
        "# defining parameter range\n",
        "param_grid4 = {\n",
        "    'gamma': [ 'auto','scale'],\n",
        "} \n",
        "  \n",
        "grid4 = GridSearchCV(SVC(C = Best_C),\n",
        "                    param_grid4,\n",
        "                    refit = True,\n",
        "                    verbose = 3,\n",
        "                    scoring = MCC_scorer)\n",
        "  \n",
        "# fitting the model for grid search\n",
        "grid4.fit(X_for_SVM, Y_train)\n",
        "\n",
        "# print best parameter after tuning\n",
        "print(grid4.best_params_)\n",
        "  \n",
        "# print how our model looks after hyper-parameter tuning\n",
        "print(grid4.best_estimator_)\n",
        "\n",
        "#Print best score MCC\n",
        "print('Best score: ',grid4.best_score_)"
      ]
    },
    {
      "cell_type": "code",
      "execution_count": null,
      "id": "2cd34a04",
      "metadata": {
        "id": "2cd34a04"
      },
      "outputs": [],
      "source": [
        "# Save the best hyperparameter\n",
        "Best_gamma = grid4.best_params_.get('gamma') \n",
        "print('Best gamma = ',Best_gamma)\n",
        "print(type(Best_gamma))"
      ]
    },
    {
      "cell_type": "code",
      "execution_count": null,
      "id": "352008a6",
      "metadata": {
        "id": "352008a6"
      },
      "outputs": [],
      "source": [
        "# defining parameter range\n",
        "param_grid5 = {\n",
        "    'degree': [ 1, 2, 3, 4, 5, 6 ]\n",
        "} \n",
        "  \n",
        "grid5 = GridSearchCV(SVC(C = Best_C, gamma = Best_gamma, kernel = 'poly'),\n",
        "                    param_grid5,\n",
        "                    refit = True,\n",
        "                    verbose = 3,\n",
        "                    scoring = MCC_scorer)\n",
        "  \n",
        "# fitting the model for grid search\n",
        "grid5.fit(X_for_SVM, Y_train)\n",
        "\n",
        "# print best parameter after tuning\n",
        "print(grid5.best_params_)\n",
        "  \n",
        "# print how our model looks after hyper-parameter tuning\n",
        "print(grid5.best_estimator_)\n",
        "\n",
        "#Print best score MCC\n",
        "print('Best score: ',grid5.best_score_)"
      ]
    },
    {
      "cell_type": "code",
      "execution_count": null,
      "id": "d0ff1196",
      "metadata": {
        "id": "d0ff1196"
      },
      "outputs": [],
      "source": [
        "param_grid6 = {\n",
        "    'kernel': [ 'linear', 'rbf', 'sigmoid' ]\n",
        "} \n",
        "  \n",
        "grid6 = GridSearchCV(SVC(C = Best_C, gamma = Best_gamma),\n",
        "                    param_grid6,\n",
        "                    refit = True,\n",
        "                    verbose = 3,\n",
        "                    scoring = MCC_scorer)\n",
        "  \n",
        "# fitting the model for grid search\n",
        "grid6.fit(X_for_SVM, Y_train)\n",
        "\n",
        "#print(\"Best grid 8 score ----> \",grid8.best_score_)\n",
        "\n",
        "# print best parameter after tuning\n",
        "print(grid6.best_params_)\n",
        "  \n",
        "# print how our model looks after hyper-parameter tuning\n",
        "print(grid6.best_estimator_)\n",
        "\n",
        "#Print best score MCC\n",
        "print('Best score: ',grid6.best_score_)"
      ]
    },
    {
      "cell_type": "code",
      "execution_count": null,
      "id": "beae84d5",
      "metadata": {
        "id": "beae84d5"
      },
      "outputs": [],
      "source": [
        "# Save the best hyperparameter\n",
        "Best_kernel = grid6.best_params_.get('kernel') \n",
        "print('Best kernel = ',Best_kernel)\n",
        "print(type(Best_kernel))"
      ]
    },
    {
      "cell_type": "code",
      "execution_count": null,
      "id": "20e2da9d",
      "metadata": {
        "id": "20e2da9d"
      },
      "outputs": [],
      "source": [
        "# defining parameter range\n",
        "param_grid7 = {\n",
        "    'class_weight': [\"balanced\",None],\n",
        "    'decision_function_shape': ['ovo', 'ovr'],\n",
        "    'tol': [0.001, 0.0001, 0.00001]\n",
        "} \n",
        "  \n",
        "grid7 = GridSearchCV(SVC(C = Best_C, gamma = Best_gamma, kernel = Best_kernel),\n",
        "                    param_grid7,\n",
        "                    refit = True,\n",
        "                    verbose = 3,\n",
        "                    scoring = MCC_scorer)\n",
        "  \n",
        "# fitting the model for grid search\n",
        "grid7.fit(X_for_SVM, Y_train)\n",
        "\n",
        "# print best parameter after tuning\n",
        "print(grid7.best_params_)\n",
        "  \n",
        "# print how our model looks after hyper-parameter tuning\n",
        "print(grid7.best_estimator_)\n",
        "\n",
        "#Print best score MCC\n",
        "print('Best score: ',grid7.best_score_)"
      ]
    },
    {
      "cell_type": "markdown",
      "id": "a6dab9ce",
      "metadata": {
        "id": "a6dab9ce"
      },
      "source": [
        "# Best optimized classifier \n",
        "**SVC(C = 100, gamma = 'scale', decision_function_shape = 'ovo',class_weight = 'balanced',kernel ='rbf')**"
      ]
    },
    {
      "cell_type": "code",
      "execution_count": null,
      "id": "33f23b6a",
      "metadata": {
        "id": "33f23b6a"
      },
      "outputs": [],
      "source": [
        "#Loading SVC skalearn\n",
        "\n",
        "SVM_clf = svm.SVC(C = 100, gamma = 'scale',\n",
        "                  decision_function_shape = 'ovo',\n",
        "                  class_weight = 'balanced',\n",
        "                  kernel ='rbf',\n",
        "                  probability = True,\n",
        "                  random_state = Seed_0)\n",
        "\n",
        "SVM_clf.fit(X_for_SVM, Y_train)\n",
        "\n",
        "#Now predict using the trained SVM model. \n",
        "\n",
        "prediction_SVM = SVM_clf.predict(X_test_features)\n",
        "Y_predict = np.array(prediction_SVM)\n",
        "predict_probabilities = SVM_clf.predict_proba(X_test_features)[:,1]\n",
        "\n",
        "prediction_SVM = le.inverse_transform(prediction_SVM) #recovering labels between 0 y 1"
      ]
    },
    {
      "cell_type": "code",
      "execution_count": null,
      "id": "b11de8d3",
      "metadata": {
        "scrolled": false,
        "id": "b11de8d3"
      },
      "outputs": [],
      "source": [
        "#metrics\n",
        "#confusion_matrix\n",
        "CM = sklearn.metrics.confusion_matrix(y_test, prediction_SVM)\n",
        "TP = CM[0][0]\n",
        "FN = CM[0][1]\n",
        "FP = CM[1][0]\n",
        "TN = CM[1][1]\n",
        "\n",
        "#Calculate F1 Score - Validation\n",
        "F1 = ( ( 2*TP ) / ( 2*TP + FP + FN ) )\n",
        "\n",
        "#Calculate Recall - Validation\n",
        "Recall = ( TP / ( TP + FN ) )\n",
        "\n",
        "#Calculate Specificity - Validation\n",
        "Specificity = ( TN / ( TN + FP )  )\n",
        "\n",
        "#Confusion Matrix - verify accuracy of each class\n",
        "\n",
        "CM = pd.DataFrame(CM,columns = ['Aprovechable','No Aprovechable'],index = ['Aprovechable','No Aprovechable'])\n",
        "sns.heatmap(CM, annot=True, linewidth = 1.5, fmt =\"d\")\n",
        "\n",
        "#Calculating MCC\n",
        "MCC = sklearn.metrics.matthews_corrcoef(y_test, prediction_SVM)\n",
        "\n",
        "print('=======================================')\n",
        "print(\"|            Best Scores               |\")\n",
        "print('=======================================\\n')\n",
        "print('        Accuracy :     {:.4f}'.format(metrics.accuracy_score(y_test, prediction_SVM)))\n",
        "print('        Recall :       {:.4f}'.format(Recall))\n",
        "print('        Specificity :  {:.4f}'.format(Specificity))\n",
        "print('        AUC :          {:.4f}'.format(sklearn.metrics.roc_auc_score(y_test, predict_probabilities )))\n",
        "print('        F1 Score :     {:.4f}'.format(F1))\n",
        "print('        MCC :          {:.4f}'.format(MCC))\n",
        "print('        Seed:          ',Seed_0)\n",
        "\n",
        "#Check results on a few select images\n",
        "n = np.random.randint(0,X_test.shape[0])\n",
        "img = X_test[n]\n",
        "plt.imshow(img)\n",
        "input_img = np.expand_dims(img, axis=0) #Expand dims so the input is (num images, x, y, c)\n",
        "input_img_feature=VGG19model.predict(input_img)\n",
        "input_img_features=input_img_feature.reshape(input_img_feature.shape[0], -1)\n",
        "prediction_svm = SVM_clf.predict(input_img_features)[0] \n",
        "prediction_svm = le.inverse_transform([prediction_svm])  #Reverse the label encoder to original name\n",
        "print(\"The prediction for this image is: \", prediction_svm)\n",
        "print(\"The actual label for this image is: \", y_test[n])\n",
        "\n",
        "print(\"\\n\\n                     ▼ Confusion Matrix ▼\")\n",
        "print(\"   --------------------------------------------\")\n",
        "\n"
      ]
    },
    {
      "cell_type": "code",
      "execution_count": null,
      "id": "19a74ba2",
      "metadata": {
        "id": "19a74ba2"
      },
      "outputs": [],
      "source": [
        "#Calculating AUC - ROC curve \n",
        "\n",
        "Y_tf = predict_probabilities\n",
        "fpr, tpr, thresholds = roc_curve(Y_test, Y_tf)\n",
        "AUC = auc(fpr, tpr)"
      ]
    },
    {
      "cell_type": "code",
      "execution_count": null,
      "id": "38fbf00d",
      "metadata": {
        "id": "38fbf00d"
      },
      "outputs": [],
      "source": [
        "#Show ROC-AUC Curve\n",
        "plt.figure(\"ROC-AUC Curve\")\n",
        "plt.plot([0, 1], [0, 1], 'k--')\n",
        "plt.plot(fpr, tpr, label='VGG19 + SVC (area = {:.3f})'.format(AUC), color = 'tab:orange')\n",
        "plt.xlabel('False positive rate')\n",
        "plt.ylabel('True positive rate')\n",
        "plt.title('ROC curve')\n",
        "plt.legend(loc='best')\n",
        "plt.show()\n",
        "# Zoom in view of the upper left corner.\n",
        "plt.figure('Zoomed - ROC-AUC Curve')\n",
        "plt.xlim(0, 0.4)\n",
        "plt.ylim(0.6, 1)\n",
        "plt.plot([0, 1], [0, 1], 'k--')\n",
        "plt.plot(fpr, tpr, label='VGG19 + SVC(area = {:.3f})'.format(AUC),color = 'tab:orange')\n",
        "plt.xlabel('False positive rate')\n",
        "plt.ylabel('True positive rate')\n",
        "plt.title('ROC curve (zoomed in at top left)')\n",
        "plt.legend(loc='best')"
      ]
    },
    {
      "cell_type": "raw",
      "id": "776b1dee",
      "metadata": {
        "id": "776b1dee"
      },
      "source": [
        "1 = 'No Aprovechable'\n",
        "0 = 'Aprovechable'"
      ]
    },
    {
      "cell_type": "markdown",
      "id": "7bc6e218",
      "metadata": {
        "id": "7bc6e218"
      },
      "source": [
        "# Real Labels"
      ]
    },
    {
      "cell_type": "code",
      "execution_count": null,
      "id": "46b5513d",
      "metadata": {
        "id": "46b5513d"
      },
      "outputs": [],
      "source": [
        "Y_test"
      ]
    },
    {
      "cell_type": "markdown",
      "id": "f04ce6da",
      "metadata": {
        "id": "f04ce6da"
      },
      "source": [
        "# Predicted Labels"
      ]
    },
    {
      "cell_type": "code",
      "execution_count": null,
      "id": "0ea8fe34",
      "metadata": {
        "id": "0ea8fe34"
      },
      "outputs": [],
      "source": [
        "SVM_clf.predict(X_test_features)"
      ]
    },
    {
      "cell_type": "markdown",
      "id": "355e2a9b",
      "metadata": {
        "id": "355e2a9b"
      },
      "source": [
        "# Predicted Probabilities"
      ]
    },
    {
      "cell_type": "code",
      "execution_count": null,
      "id": "e36d83e1",
      "metadata": {
        "id": "e36d83e1"
      },
      "outputs": [],
      "source": [
        "predict_probabilities"
      ]
    }
  ],
  "metadata": {
    "kernelspec": {
      "display_name": "GPU",
      "language": "python",
      "name": "gpu"
    },
    "language_info": {
      "codemirror_mode": {
        "name": "ipython",
        "version": 3
      },
      "file_extension": ".py",
      "mimetype": "text/x-python",
      "name": "python",
      "nbconvert_exporter": "python",
      "pygments_lexer": "ipython3",
      "version": "3.9.13"
    },
    "colab": {
      "provenance": [],
      "include_colab_link": true
    }
  },
  "nbformat": 4,
  "nbformat_minor": 5
}